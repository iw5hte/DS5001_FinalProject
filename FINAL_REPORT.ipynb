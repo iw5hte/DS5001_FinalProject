{
 "cells": [
  {
   "cell_type": "markdown",
   "id": "8b5075e7",
   "metadata": {},
   "source": [
    "# Final Report\n",
    "## Iris Wu (iw5hte@virginia.edu) DS 5001 Spring 2023"
   ]
  },
  {
   "cell_type": "markdown",
   "id": "b7c67e72",
   "metadata": {},
   "source": [
    "## Introduction. \n",
    "Describe the nature of your corpus and the question(s) you've asked of the data."
   ]
  },
  {
   "cell_type": "markdown",
   "id": "f011df95",
   "metadata": {},
   "source": [
    "### Corpus\n",
    "\n",
    "I decided to choose Plato's corpus of dialogues because there are many historical, philosophical, and literary issues surrounding the dialogues that I think text analysis might help elucidate, especially because his corpus is so large and complex that it would be difficult to give your full attention to every dialogue. I thought about including the same text in multiple forms from different translators, but ultimately decided that that might introduce too much complexity for an initial foray into Plato's works. Additionally, these complexities might teach us something about the limitations and nuances of this statistical approach."
   ]
  },
  {
   "cell_type": "markdown",
   "id": "76707852",
   "metadata": {},
   "source": [
    "### Questions\n",
    "1. What can exploratory text analysis tell us about the authorship and timeline of the dialogues, especially based on textual similarities between the two? These are two highly contentious historical issues that lead to differing interpretations (see: George Klosko's \"What Socrates Says, and Does Not Say\")\n",
    "2. What can we learn about the limitations of our exploratory text analysis approach when examining dialogic forms?\n",
    "3. What can we learn about how Plato's thinking changed over time as he wrote?\n",
    "4. What can Plato's literary choices tell us about his philosophy? Where should we begin analysis---with the ideas he explicitly puts in Socrates' mouth, the natures of his characters, or some combination of the two? This might lead to important implications for the political theory contentions between the Straussians and the historicists, who take the second and the first approaches, respectively."
   ]
  },
  {
   "cell_type": "markdown",
   "id": "de5a97be",
   "metadata": {},
   "source": [
    "## Source Data. Provide a description of all relativant source files and describe the following features for each source file:\n",
    "- 1. Provenance: Where did they come from? Describe the website or other source and provide relevant URLs.\n",
    "- 2. Location: Provide a link to the source files in UVA Box.\n",
    "- 3. Description: What is the general subject matter of the corpus? How many observations are there? What is the average document length?\n",
    "- 4. Format: A description of both the file formats of the source files, e.g., plaintext, XML, CSV, etc., and the internal structure where applicable. For - example, if XML then specify document type (e.g., TEI or XHTML)."
   ]
  },
  {
   "cell_type": "markdown",
   "id": "dde89cee",
   "metadata": {},
   "source": [
    "### Provenance\n",
    "\n",
    "All of my source files came from the same place: the publicly accessible collection of Benjamin Jowett's translation of Plato's corpus on Project Gutenberg. Here is a URL to an index that holds links to \n",
    "all of the files:"
   ]
  },
  {
   "cell_type": "markdown",
   "id": "12c94235",
   "metadata": {},
   "source": [
    "### Location"
   ]
  },
  {
   "cell_type": "markdown",
   "id": "da1b77db",
   "metadata": {},
   "source": [
    "### Description\n",
    "\n",
    "The general subject matter of the corpus is Plato's dialogues, which typically involve Socrates, the main character, expounding philosophy through conversations with various characters in Athens. There are a few deviations, such as the Phaedo which occurs after Socrates' death. All of these dialogues were translated by Benjamin Jowett, a Victorian-era translator of Plato's dialogues. They all also include introductions and analyses by Jowett, but I chose to omit these from my analysis because I feel like they are their own separate works, and though translation inherently comes with interpretation, I am more interested in Plato's voice and writing than Jowett's.\n",
    "\n",
    "There are 29 observations and the average document length (excluding Jowett's introduction) is _____, though there is a lot of variation between dialogues."
   ]
  },
  {
   "cell_type": "markdown",
   "id": "b9f7c14c",
   "metadata": {},
   "source": [
    "### Format\n",
    "\n",
    "All of the files are plaintext files downloaded from Project Gutenberg."
   ]
  },
  {
   "cell_type": "markdown",
   "id": "4f8076b7",
   "metadata": {},
   "source": [
    "## Data Model. Describe the analytical tables you generated in the process of tokenization, annotation, and analysis of your corpus. You provide a list of tables with field names and their definition, along with URLs to each associated CSV file."
   ]
  },
  {
   "cell_type": "markdown",
   "id": "24e5e129",
   "metadata": {},
   "source": [
    "### plato-CORPUS.csv (also includes plato-CORPUS-PARA.csv and plato-CORPUS-CHAP.csv)\n",
    "\n",
    "This is a tokenized table of Plato's works with annotated information about each token, such as its corresponding location in the work, its predicted part of speech, its corresponding term in the VOCAB table, and its TFIDF. Depending on the bag noted in the file name, the TFIDF corresponds to different bags of words, with the PARA file corresponding to paragraph bags and the CHAP file corresponding to the chapter bags."
   ]
  },
  {
   "cell_type": "markdown",
   "id": "60e20f73",
   "metadata": {},
   "source": [
    "### plato-LIB.csv\n",
    "\n",
    "This is metadata about the 29 Platonic dialogues I gathered, including their filepaths, titles, book IDs, "
   ]
  },
  {
   "cell_type": "markdown",
   "id": "902be86b",
   "metadata": {},
   "source": [
    "plato-BOW-PARA.csv\n",
    "plato-COMPS-PARA.csv\n",
    "plato-COMPS.csv\n",
    "plato-DCM-PARA.csv\n",
    "plato-DCM.csv\n",
    "plato-DOC.csv\n",
    "plato-DOCS-PARA.csv\n",
    "plato-EMBEDDINGS-PARA.csv\n",
    "plato-EMOX.csv\n",
    "\n",
    "plato-LOADINGS-PARA.csv\n",
    "plato-LOADINGS.csv\n",
    "plato-PHI-PARA.csv\n",
    "plato-POS_GROUP.csv\n",
    "plato-POS.csv\n",
    "plato-SENTBOW.csv\n",
    "plato-THETA-PARA.csv\n",
    "plato-TOPICS-PARA.csv\n",
    "plato-VOCAB-PARA.csv"
   ]
  },
  {
   "cell_type": "markdown",
   "id": "72128da5",
   "metadata": {},
   "source": [
    "## Bibliography"
   ]
  },
  {
   "cell_type": "markdown",
   "id": "649dcd9f",
   "metadata": {},
   "source": [
    "Klosko, George. “What Socrates Says, and Does Not Say.” The Classical Quarterly, vol. 70, no. 2, Dec. 2020, pp. 577–591., https://doi.org/10.1017/s0009838820000907. "
   ]
  }
 ],
 "metadata": {
  "kernelspec": {
   "display_name": "Python 3 (ipykernel)",
   "language": "python",
   "name": "python3"
  },
  "language_info": {
   "codemirror_mode": {
    "name": "ipython",
    "version": 3
   },
   "file_extension": ".py",
   "mimetype": "text/x-python",
   "name": "python",
   "nbconvert_exporter": "python",
   "pygments_lexer": "ipython3",
   "version": "3.8.16"
  }
 },
 "nbformat": 4,
 "nbformat_minor": 5
}
