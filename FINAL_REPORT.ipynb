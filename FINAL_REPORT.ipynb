{
 "cells": [
  {
   "cell_type": "markdown",
   "id": "cbab37fd",
   "metadata": {},
   "source": [
    "# Final Report\n",
    "## Iris Wu (iw5hte@virginia.edu) DS 5001 Spring 2023"
   ]
  },
  {
   "cell_type": "markdown",
   "id": "63bad1b0",
   "metadata": {},
   "source": [
    "## Introduction. \n",
    "Describe the nature of your corpus and the question(s) you've asked of the data."
   ]
  },
  {
   "cell_type": "markdown",
   "id": "05738d77",
   "metadata": {},
   "source": [
    "### Corpus\n",
    "\n",
    "I decided to choose Plato's corpus of dialogues because there are many historical, philosophical, and literary issues surrounding the dialogues that I think text analysis might help elucidate, especially because his corpus is so large and complex that it would be difficult to give your full attention to every dialogue. I thought about including the same text in multiple forms from different translators, but ultimately decided that that might introduce too much complexity for an initial foray into Plato's works. Additionally, these complexities might teach us something about the limitations and nuances of this statistical approach."
   ]
  },
  {
   "cell_type": "markdown",
   "id": "386cb580",
   "metadata": {},
   "source": [
    "### Questions\n",
    "1. What can exploratory text analysis tell us about the authorship and timeline of the dialogues, especially based on textual similarities between the two? These are two highly contentious historical issues that lead to differing interpretations (see: George Klosko's \"What Socrates Says, and Does Not Say\")\n",
    "2. What can we learn about the limitations of our exploratory text analysis approach when examining dialogic forms?\n",
    "3. What can we learn about how Plato's thinking changed over time as he wrote?\n",
    "4. What can Plato's literary choices tell us about his philosophy? Where should we begin analysis---with the ideas he explicitly puts in Socrates' mouth, the natures of his characters, or some combination of the two? This might lead to important implications for the political theory contentions between the Straussians and the historicists, who take the second and the first approaches, respectively."
   ]
  },
  {
   "cell_type": "markdown",
   "id": "ec08707b",
   "metadata": {},
   "source": [
    "## Source Data. Provide a description of all relativant source files and describe the following features for each source file:\n",
    "- 1. Provenance: Where did they come from? Describe the website or other source and provide relevant URLs.\n",
    "- 2. Location: Provide a link to the source files in UVA Box.\n",
    "- 3. Description: What is the general subject matter of the corpus? How many observations are there? What is the average document length?\n",
    "- 4. Format: A description of both the file formats of the source files, e.g., plaintext, XML, CSV, etc., and the internal structure where applicable. For - example, if XML then specify document type (e.g., TEI or XHTML)."
   ]
  },
  {
   "cell_type": "markdown",
   "id": "4955ec05",
   "metadata": {},
   "source": [
    "### Provenance\n",
    "\n",
    "All of my source files came from the same place: the publicly accessible collection of Benjamin Jowett's translation of Plato's corpus on Project Gutenberg. Here is a URL to an index that holds links to \n",
    "all of the files: https://gutenberg.org/cache/epub/29441/pg29441-images.html"
   ]
  },
  {
   "cell_type": "markdown",
   "id": "e603ff3f",
   "metadata": {},
   "source": [
    "### Location\n",
    "\n",
    "https://virginia.box.com/s/6m1jzsdeqwoaoy861fmspn0jz0j869cm"
   ]
  },
  {
   "cell_type": "markdown",
   "id": "6c4cac7c",
   "metadata": {},
   "source": [
    "### Description\n",
    "\n",
    "The general subject matter of the corpus is Plato's dialogues, which typically involve Socrates, the main character, expounding philosophy through conversations with various characters in Athens. There are a few deviations, such as the Phaedo which occurs after Socrates' death. All of these dialogues were translated by Benjamin Jowett, a Victorian-era translator of Plato's dialogues. They all also include introductions and analyses by Jowett, but I chose to omit these from my analysis because I feel like they are their own separate works, and though translation inherently comes with interpretation, I am more interested in Plato's voice and writing than Jowett's.\n",
    "\n",
    "There are 29 observations and the average document length (excluding Jowett's introduction) is 25476 tokens, though there is a lot of variation between dialogues. While some dialogues are easily divded into books and sections, like The Republic, Timaeus, and the Laws, many others remain one large chunk of text that cannot be separated into chapters. This means that the paragraph bag of words will typically be most useful, especially because usually the speaker in each paragraph is different."
   ]
  },
  {
   "cell_type": "markdown",
   "id": "e999ba4e",
   "metadata": {},
   "source": [
    "### Format\n",
    "\n",
    "All of the files are plaintext files downloaded from Project Gutenberg."
   ]
  },
  {
   "cell_type": "markdown",
   "id": "6f17542f",
   "metadata": {},
   "source": [
    "## Data Model. Describe the analytical tables you generated in the process of tokenization, annotation, and analysis of your corpus. You provide a list of tables with field names and their definition, along with URLs to each associated CSV file."
   ]
  },
  {
   "cell_type": "markdown",
   "id": "aabbb9df",
   "metadata": {},
   "source": [
    "### plato-CORPUS.csv (also includes plato-CORPUS-PARA.csv and plato-CORPUS-CHAP.csv)\n",
    "\n",
    "This is a tokenized table of Plato's works with annotated information about each token, such as its corresponding location in the work, its predicted part of speech, its corresponding term in the VOCAB table, and its TFIDF. Depending on the bag noted in the file name, the TFIDF corresponds to different bags of words, with the PARA file corresponding to paragraph bags and the CHAP file corresponding to the chapter bags."
   ]
  },
  {
   "cell_type": "markdown",
   "id": "656b6976",
   "metadata": {},
   "source": [
    "### plato-LIB.csv\n",
    "\n",
    "This is metadata about the 29 Platonic dialogues I gathered, including their filepaths, titles, book IDs, number of tokens, chapter chunking regular expression, and the number of chapters."
   ]
  },
  {
   "cell_type": "markdown",
   "id": "02bd93b3",
   "metadata": {},
   "source": [
    "### plato-VOCAB.csv (also includes plato-VOCAB-PARA.csv and plato-VOCAB-CHAP.csv)\n",
    "\n",
    "This is a table that, in its most basic form, contains every term used in the dialogues and their frequency. However, in its final interation, it contains a variety of information about every term, including its probability, log-likelihood, its most likely part-of-speech, every part of speech it appears as, whether or not it is a stop word, its stem (according to the Snowball, Porter, and Lancaster models), and its TFIDF data, which (like the CORPUS table) varies with the bag of words denoted in its filepath."
   ]
  },
  {
   "cell_type": "markdown",
   "id": "56b667f3",
   "metadata": {},
   "source": [
    "### plato-DOC.csv\n",
    "\n",
    "This table essentially contains each document broken up into different chunks, typically sentences."
   ]
  },
  {
   "cell_type": "markdown",
   "id": "376a3111",
   "metadata": {},
   "source": [
    "### plato-POS.csv\n",
    "\n",
    "This table contains data about the frequency of each part of speech in the dialogues along with their corresponding part of speech groups and a key to each part of speech's definition."
   ]
  },
  {
   "cell_type": "markdown",
   "id": "24d55f5a",
   "metadata": {},
   "source": [
    "### plato-POS_GROUP.csv\n",
    "This table contains data about the frequency of each part of speech group in the dialogues along with a key to their definitions and data about its probability of appearance."
   ]
  },
  {
   "cell_type": "markdown",
   "id": "7a990b68",
   "metadata": {},
   "source": [
    "### plato-BOW-PARA.csv and plato-BOW-CHAP.csv\n",
    "\n",
    "This table is a bag of words that aggregates frequency and tfidf information depending on the bag. For the plato-BOW-PARA.csv table, the bag of words is the paragraph while for the other table, it is the chapter."
   ]
  },
  {
   "cell_type": "markdown",
   "id": "312b17c0",
   "metadata": {},
   "source": [
    "### plato-COMPS-PARA.csv and plato-COMPS-CHAP.csv\n",
    "These tables contains the 10 most principal components as vectors across the space of terms for the bag of words paragraph and chapter, respectively."
   ]
  },
  {
   "cell_type": "markdown",
   "id": "1f0b408c",
   "metadata": {},
   "source": [
    "### plato-DCM-PARA.csv and plato-DCM-CHAP.csv\n",
    "\n",
    "These tables contain the 10 most principal components projected onto the document at different levels. For the para table, it is at the level of paragraphs while in the chap table, it is at the level of the chapters."
   ]
  },
  {
   "cell_type": "markdown",
   "id": "2b2c5a53",
   "metadata": {},
   "source": [
    "### plato-LOADINGS-PARA.csv and plato-LOADINGS-CHAP.csv\n",
    "\n",
    "These tables contain the loadings, which are the coefficients of the linear combinations of the original variables that construct the principal components. These are dependent on the tfidf and dfidf data, which means that they vary based on the bag of words being the paragraph or the chapter, so there are two different tables."
   ]
  },
  {
   "cell_type": "markdown",
   "id": "bf373c21",
   "metadata": {},
   "source": [
    "### plato-PHI-PARA.csv and plato-PHI-CHAP.csv\n",
    "This is the PHI table, which represents how much a topic prefers a word. This, again, depends on the bag of words."
   ]
  },
  {
   "cell_type": "markdown",
   "id": "33590d4e",
   "metadata": {},
   "source": [
    "### plato-THETA-PARA.csv and plato-THETA-CHAP.csv\n",
    "\n",
    "This is the PHI table, which represents how much a document prefers a topic. This, again, depends on the bag of words."
   ]
  },
  {
   "cell_type": "markdown",
   "id": "b8b2a227",
   "metadata": {},
   "source": [
    "### plato-TOPICS-PARA.csv and plato-TOPICS-CHAP.csv\n",
    "This is the table of topic data, which not only includes the 9 words in a topic, but also the document word weight sum, the term frequencies, the probability of each topic, and the relationship between each dialogue and each topic."
   ]
  },
  {
   "cell_type": "markdown",
   "id": "3099ebab",
   "metadata": {},
   "source": [
    "### plato-EMBEDDINGS-PARA.csv and plato-EMBEDDINGS-CHAP.csv\n",
    "This table contains the terms and their embeddings as vector coordinates varying based on the bag of words."
   ]
  },
  {
   "cell_type": "markdown",
   "id": "c955d0f8",
   "metadata": {},
   "source": [
    "### plato-SENTBOW-PARA.csv and plato-SENTBOW-CHAP.csv\n",
    "This table refers to the sentiment bag of words, which essentially is a modified bag of words that carries sentiment information about the term strings at a particular level of the bag of words."
   ]
  },
  {
   "cell_type": "markdown",
   "id": "68bbaf9b",
   "metadata": {},
   "source": [
    "### plato-EMOX-PARA.csv and plato-EMOX-CHAP.csv\n",
    "This table contains the emotion values for each dialogue based on the bag of words."
   ]
  },
  {
   "cell_type": "markdown",
   "id": "4af88712",
   "metadata": {},
   "source": [
    "## Exploration. Describe each of your explorations, such as PCA and topic models. For each, include the relevant parameters and hyperparemeters used to generate each model and visualization"
   ]
  },
  {
   "cell_type": "markdown",
   "id": "b3dd686f",
   "metadata": {},
   "source": [
    "## Bibliography"
   ]
  },
  {
   "cell_type": "markdown",
   "id": "255eca40",
   "metadata": {},
   "source": [
    "Klosko, George. “What Socrates Says, and Does Not Say.” The Classical Quarterly, vol. 70, no. 2, Dec. 2020, pp. 577–591., https://doi.org/10.1017/s0009838820000907. \n",
    "\n",
    "Strauss, Leo. The City and Man. University of Chicago Press, 1978. "
   ]
  }
 ],
 "metadata": {
  "kernelspec": {
   "display_name": "Python 3 (ipykernel)",
   "language": "python",
   "name": "python3"
  },
  "language_info": {
   "codemirror_mode": {
    "name": "ipython",
    "version": 3
   },
   "file_extension": ".py",
   "mimetype": "text/x-python",
   "name": "python",
   "nbconvert_exporter": "python",
   "pygments_lexer": "ipython3",
   "version": "3.8.16"
  }
 },
 "nbformat": 4,
 "nbformat_minor": 5
}
